{
 "cells": [
  {
   "cell_type": "code",
   "execution_count": 1,
   "metadata": {
    "colab": {
     "base_uri": "https://localhost:8080/"
    },
    "id": "FLFHBiDxI4Oi",
    "outputId": "c3a67555-6cb6-4bd6-9785-0ff661f0ba1e"
   },
   "outputs": [
    {
     "name": "stdout",
     "output_type": "stream",
     "text": [
      "Jesus is 10 years old \n",
      "\n",
      " Jesus says Woof woof\n",
      "<__main__.Dog object at 0x7fe8eabbee80>\n"
     ]
    }
   ],
   "source": [
    "#example of OOP:\n",
    "import numpy as np\n",
    "class Dog:\n",
    "    species = \"Canis familiaris\"\n",
    "\n",
    "    def __init__(self, name, age):\n",
    "        self.name = name\n",
    "        self.age = age\n",
    "\n",
    "    # Instance method\n",
    "    def description(self):\n",
    "        return f\"{self.name} is {self.age} years old\"\n",
    "\n",
    "    # Another instance method\n",
    "    def speak(self, sound):\n",
    "        return f\"{self.name} says {sound}\"\n",
    "\n",
    "Jesus=Dog(\"Jesus\",10)\n",
    "\n",
    "print(Jesus.description(),f\"\\n\\n\",Jesus.speak(\"Woof woof\"))\n",
    "\n",
    "print(Jesus)#oh, can we change this? (yes)"
   ]
  },
  {
   "cell_type": "code",
   "execution_count": 2,
   "metadata": {
    "colab": {
     "base_uri": "https://localhost:8080/"
    },
    "id": "7EhqNx0QWpKC",
    "outputId": "d306bbab-4c69-434a-eb52-036fbfbad75b"
   },
   "outputs": [
    {
     "name": "stdout",
     "output_type": "stream",
     "text": [
      "Jesus is 10 years old\n"
     ]
    }
   ],
   "source": [
    "class Dog:\n",
    "    species = \"Canis familiaris\"\n",
    "\n",
    "    def __init__(self, name, age):\n",
    "        self.name = name\n",
    "        self.age = age\n",
    "\n",
    "    # Instance method\n",
    "    def description(self):\n",
    "        return f\"{self.name} is {self.age} years old\"\n",
    "\n",
    "    # Another instance method\n",
    "    def speak(self, sound):\n",
    "        return f\"{self.name} says {sound}\"\n",
    "\n",
    "    #modified to print output\n",
    "    def __str__(self):\n",
    "        return f\"{self.name} is {self.age} years old\"\n",
    "\n",
    "Jesus=Dog(\"Jesus\",10)\n",
    "print(Jesus)"
   ]
  },
  {
   "cell_type": "code",
   "execution_count": 3,
   "metadata": {
    "colab": {
     "base_uri": "https://localhost:8080/"
    },
    "id": "nOhgkSF5XZ3m",
    "outputId": "924ecb9a-e7d9-482b-b035-7e2089075bc7"
   },
   "outputs": [
    {
     "name": "stdout",
     "output_type": "stream",
     "text": [
      "The black redstart (Phoenicurus ochruros) is a bird\n",
      "of the order Muscicapidae, weighing approximately 16 grams.\n"
     ]
    }
   ],
   "source": [
    "class Bird:\n",
    "  clas=\"Aves\"\n",
    "\n",
    "\n",
    "  def __init__(self,english,spanish,latin,mass,units,order):\n",
    "    self.english=english\n",
    "    self.spanish=spanish\n",
    "    self.latin=latin\n",
    "    self.mass=[mass,units]\n",
    "    self.order=order\n",
    "\n",
    "  def description(self):\n",
    "    return f\"The {self.english} ({self.latin}) is a bird\\nof the order {self.order}, weighing approximately {self.mass[0]} {self.mass[1]}.\"\n",
    "\n",
    "PO_kwargs={\n",
    "    \"english\": \"black redstart\",\n",
    "    \"spanish\": \"colirrojo tizón\",\n",
    "    \"latin\": \"Phoenicurus ochruros\",\n",
    "    \"mass\": 16,\n",
    "    \"units\": \"grams\",\n",
    "    \"order\": \"Muscicapidae\"\n",
    "}\n",
    "\n",
    "PO=Bird(**PO_kwargs)\n",
    "\n",
    "print(PO.description())"
   ]
  },
  {
   "cell_type": "code",
   "execution_count": 4,
   "metadata": {
    "colab": {
     "base_uri": "https://localhost:8080/"
    },
    "id": "28vaqSfKaYfu",
    "outputId": "1ba943d3-3ca2-4511-c918-a2a6529d64f0"
   },
   "outputs": [
    {
     "name": "stdout",
     "output_type": "stream",
     "text": [
      "The black redstart (Phoenicurus ochruros phoenicuroides) is a bird\n",
      "of the order Muscicapidae, weighing approximately 16 grams.\n",
      "The subspecies phoenicuroides is located in  Tian Shan eastwards to Mongolia.\n"
     ]
    }
   ],
   "source": [
    "class Bird_ssp(Bird):\n",
    "  def __init__(self,ssp,loc,**kwargs):\n",
    "    super().__init__(**kwargs)\n",
    "    self.ssp=ssp\n",
    "    self.latin=self.latin+\" \"+ssp\n",
    "    self.loc=loc\n",
    "\n",
    "  def description(self):\n",
    "     return super().description()\n",
    "  def location(self):\n",
    "    return f\"The subspecies {self.ssp} is located in {self.loc}.\"\n",
    "\n",
    "PO_ssp=Bird_ssp(\"phoenicuroides\",\" Tian Shan eastwards to Mongolia\",**PO_kwargs)\n",
    "print(PO_ssp.description())\n",
    "print(PO_ssp.location())"
   ]
  },
  {
   "cell_type": "code",
   "execution_count": 5,
   "metadata": {
    "colab": {
     "base_uri": "https://localhost:8080/"
    },
    "id": "ZgdjNVAYcugT",
    "outputId": "d1f075cf-2523-4b67-86cc-0579d7e6c722"
   },
   "outputs": [
    {
     "name": "stdout",
     "output_type": "stream",
     "text": [
      "The Tufted titmouse (Baeolophus bicolor) is a bird\n",
      "of the order Paridae, weighing approximately 21.5 grams.\n"
     ]
    }
   ],
   "source": [
    "TTM_kwargs={\n",
    "    \"english\": \"Tufted titmouse\",\n",
    "    \"spanish\": \"herrerillo bicolor\",\n",
    "    \"latin\": \"Baeolophus bicolor\",\n",
    "    \"mass\": np.mean([17,26]),\n",
    "    \"units\": \"grams\",\n",
    "    \"order\": \"Paridae\"\n",
    "}\n",
    "\n",
    "TTM=Bird(**TTM_kwargs)\n",
    "\n",
    "print(TTM.description())"
   ]
  },
  {
   "cell_type": "code",
   "execution_count": 1,
   "metadata": {
    "colab": {
     "base_uri": "https://localhost:8080/"
    },
    "id": "xtosuT147yGd",
    "outputId": "83854b36-43d5-454e-d5d3-1cb0b8499c15"
   },
   "outputs": [],
   "source": [
    "import torch\n",
    "from torch import nn #torch building blocks for neural networks (graphs)\n",
    "import pandas as pd\n",
    "#import numpy as np\n",
    "import matplotlib.pyplot as plt"
   ]
  },
  {
   "cell_type": "code",
   "execution_count": 2,
   "metadata": {},
   "outputs": [],
   "source": [
    "device='cpu'"
   ]
  },
  {
   "cell_type": "code",
   "execution_count": 3,
   "metadata": {
    "colab": {
     "base_uri": "https://localhost:8080/"
    },
    "id": "1F5uFQuZ70o7",
    "outputId": "ed2aeafe-d2fe-4da2-dfd1-13b17b63649a"
   },
   "outputs": [
    {
     "name": "stdout",
     "output_type": "stream",
     "text": [
      "zsh:1: command not found: nvidia-smi\n"
     ]
    }
   ],
   "source": [
    "!nvidia-smi"
   ]
  },
  {
   "cell_type": "markdown",
   "metadata": {
    "id": "-cG-3xCQ88dn"
   },
   "source": [
    "Fitting model to data==training\n",
    "\n",
    "Making predictions/Evaluating model==inference"
   ]
  },
  {
   "cell_type": "markdown",
   "metadata": {
    "id": "9RVdJtQ7-3vB"
   },
   "source": [
    "Linear regression line to create a straight line with known parameters\n",
    "\n",
    "y=a+b*x"
   ]
  },
  {
   "cell_type": "code",
   "execution_count": 4,
   "metadata": {
    "id": "jDVB0VM-8QOu"
   },
   "outputs": [],
   "source": [
    "weight=0.7 #b (slope)\n",
    "bias=0.3   #a (intercept)\n",
    "\n",
    "start=0\n",
    "end=1\n",
    "step=0.02\n",
    "X=torch.arange(start,end,step).unsqueeze(dim=1)\n",
    "y=weight*X+bias"
   ]
  },
  {
   "cell_type": "code",
   "execution_count": 5,
   "metadata": {
    "colab": {
     "base_uri": "https://localhost:8080/"
    },
    "id": "Bg9Pw8cM_OOZ",
    "outputId": "7d75a113-a3c5-4eb2-b4ce-717975ba6042"
   },
   "outputs": [
    {
     "data": {
      "text/plain": [
       "(50, 50)"
      ]
     },
     "execution_count": 5,
     "metadata": {},
     "output_type": "execute_result"
    }
   ],
   "source": [
    "len(X),len(y)"
   ]
  },
  {
   "cell_type": "code",
   "execution_count": 6,
   "metadata": {
    "colab": {
     "base_uri": "https://localhost:8080/"
    },
    "id": "yhVv32rm_p1v",
    "outputId": "3e76e234-8e11-4dc5-b998-8c8cf324ed1f"
   },
   "outputs": [
    {
     "data": {
      "text/plain": [
       "(40, 40, 10, 10)"
      ]
     },
     "execution_count": 6,
     "metadata": {},
     "output_type": "execute_result"
    }
   ],
   "source": [
    "split=int(0.8*len(X))\n",
    "\n",
    "X_train,y_train=X[:split],y[:split]\n",
    "X_test,y_test=X[split:],y[split:]\n",
    "\n",
    "#ez, but other more random ones (eg: scikit learn traintest split)\n",
    "X_train,y_train,X_test,y_test=X_train.to(device),y_train.to(device),X_test.to(device),y_test.to(device)\n",
    "\n",
    "len(X_train),len(y_train),len(X_test),len(y_test)"
   ]
  },
  {
   "cell_type": "code",
   "execution_count": 7,
   "metadata": {
    "id": "ftuGqBC3B2nR"
   },
   "outputs": [],
   "source": [
    "def plot_predictions(predictions,train_data=X_train.cpu(),\n",
    "                     train_labels=y_train.cpu(),\n",
    "                     test_data=X_test.cpu(),\n",
    "                     test_labels=y_test.cpu()):\n",
    "  plt.scatter(train_data,train_labels,c=\"b\",s=4,label=\"Testing data\")\n",
    "  plt.scatter(test_data,test_labels,c=\"r\",s=4,label=\"Training data\")\n",
    "\n",
    "  if predictions is not None:\n",
    "    plt.scatter(test_data,predictions,s=4,c=\"g\",label=\"Predictions\")\n",
    "  plt.legend(prop={\"size\":11})\n",
    "\n",
    "  plt.show()"
   ]
  },
  {
   "cell_type": "code",
   "execution_count": 8,
   "metadata": {
    "colab": {
     "base_uri": "https://localhost:8080/",
     "height": 430
    },
    "id": "ko-h_JhZCw_O",
    "outputId": "7934ae0a-8472-49ff-b0d4-05e41fcd9285"
   },
   "outputs": [
    {
     "data": {
      "image/png": "[encoded data removed]",
      "text/plain": [
       "<Figure size 640x480 with 1 Axes>"
      ]
     },
     "metadata": {},
     "output_type": "display_data"
    }
   ],
   "source": [
    "plot_predictions(predictions=None)"
   ]
  },
  {
   "cell_type": "code",
   "execution_count": 9,
   "metadata": {
    "id": "hhF2wkUYEdb3"
   },
   "outputs": [],
   "source": [
    "class LinearRegressionModelV1(nn.Module):#nn.Module has tons of stuff that\n",
    "  def __init__(self):                    #helps build models\n",
    "    super().__init__()\n",
    "    self.weights=nn.Parameter(torch.randn(1,\n",
    "                                          requires_grad=True,dtype=torch.float))\n",
    "    #requires_grad==requires gradient (default true)\n",
    "    #torch.float==torch.float32       (default true)\n",
    "    self.bias=nn.Parameter(torch.randn(1,requires_grad=True,dtype=torch.float))\n",
    "\n",
    "  def forward(self,x:torch.Tensor)->torch.Tensor: #x is input type tensor\n",
    "    return self.weights*x+self.bias\n",
    "\n",
    "#torch.nn: has building blocks for comp graphs (a nn can be consid a comp graph)\n",
    "#torch.nn.Parameter: parameters that model should try to learn\n",
    "#torch.nn.Module: base class for nn modules, if you subclass overwrite with\n",
    "#                 forward()\n",
    "#torch.optim: where optimizers live, help with grad descent\n",
    "#def forward(): all nn.Module sublcasses require overwriting forward\n",
    "#torchvision.modules: pre trained models\n"
   ]
  },
  {
   "cell_type": "code",
   "execution_count": 10,
   "metadata": {
    "colab": {
     "base_uri": "https://localhost:8080/"
    },
    "id": "fd0hk_T6lpB6",
    "outputId": "1f3e4022-b161-445e-90b6-cd4b50b6fd53"
   },
   "outputs": [
    {
     "data": {
      "text/plain": [
       "[Parameter containing:\n",
       " tensor([0.3367], requires_grad=True),\n",
       " Parameter containing:\n",
       " tensor([0.1288], requires_grad=True)]"
      ]
     },
     "execution_count": 10,
     "metadata": {},
     "output_type": "execute_result"
    }
   ],
   "source": [
    "torch.manual_seed(42)\n",
    "model_0=LinearRegressionModelV1()\n",
    "model_0.to(device)\n",
    "list(model_0.parameters())#<- is random"
   ]
  },
  {
   "cell_type": "code",
   "execution_count": 11,
   "metadata": {
    "colab": {
     "base_uri": "https://localhost:8080/"
    },
    "id": "ouU4oXVEQIwk",
    "outputId": "536f6794-9a15-4564-8fc9-d8a1c6ed0d73"
   },
   "outputs": [
    {
     "data": {
      "text/plain": [
       "OrderedDict([('weights', tensor([0.3367])), ('bias', tensor([0.1288]))])"
      ]
     },
     "execution_count": 11,
     "metadata": {},
     "output_type": "execute_result"
    }
   ],
   "source": [
    "model_0.state_dict()  #we see weights and bias in class (internals of model)"
   ]
  },
  {
   "cell_type": "code",
   "execution_count": 12,
   "metadata": {
    "colab": {
     "base_uri": "https://localhost:8080/"
    },
    "id": "JSLnyls8Q0S4",
    "outputId": "b55368b9-1ae1-447d-9ae2-45733b741afc"
   },
   "outputs": [
    {
     "data": {
      "text/plain": [
       "(tensor([[0.8000],\n",
       "         [0.8200],\n",
       "         [0.8400],\n",
       "         [0.8600],\n",
       "         [0.8800],\n",
       "         [0.9000],\n",
       "         [0.9200],\n",
       "         [0.9400],\n",
       "         [0.9600],\n",
       "         [0.9800]]),\n",
       " tensor([[0.3982],\n",
       "         [0.4049],\n",
       "         [0.4116],\n",
       "         [0.4184],\n",
       "         [0.4251],\n",
       "         [0.4318],\n",
       "         [0.4386],\n",
       "         [0.4453],\n",
       "         [0.4520],\n",
       "         [0.4588]]))"
      ]
     },
     "execution_count": 12,
     "metadata": {},
     "output_type": "execute_result"
    }
   ],
   "source": [
    "with torch.inference_mode(): #inference_mode removes grad tracking\n",
    "  y_preds=model_0(X_test)    #so it disables training\n",
    "X_test,y_preds               #predictions are faster"
   ]
  },
  {
   "cell_type": "code",
   "execution_count": 13,
   "metadata": {
    "colab": {
     "base_uri": "https://localhost:8080/",
     "height": 430
    },
    "id": "ODk-FuR_S9oG",
    "outputId": "c1d82241-f876-412a-dccf-9a55ab9dfd3d"
   },
   "outputs": [
    {
     "data": {
      "image/png": "[encoded data removed]",
      "text/plain": [
       "<Figure size 640x480 with 1 Axes>"
      ]
     },
     "metadata": {},
     "output_type": "display_data"
    }
   ],
   "source": [
    "plot_predictions(predictions=y_preds.cpu())"
   ]
  },
  {
   "cell_type": "code",
   "execution_count": 14,
   "metadata": {
    "id": "nwoSdG60Tu9Z"
   },
   "outputs": [],
   "source": [
    "#with torch.no_grad():        #p much same as inference_mode\n",
    "#  y_preds=model_0(X_test)    #so it disables training\n",
    "#X_test,y_preds"
   ]
  },
  {
   "cell_type": "code",
   "execution_count": 15,
   "metadata": {
    "id": "Mv2ITdTiVJCF"
   },
   "outputs": [],
   "source": [
    "#loss/cost function: how wrong our model is compared to ideal vals"
   ]
  },
  {
   "cell_type": "code",
   "execution_count": 16,
   "metadata": {
    "id": "hX_YfmCMVJ59"
   },
   "outputs": [],
   "source": [
    "#nn.L1Loss: calculates mean absolute error between x and y"
   ]
  },
  {
   "cell_type": "code",
   "execution_count": 17,
   "metadata": {
    "id": "WwRuFTxpYqa0"
   },
   "outputs": [],
   "source": [
    "#loss function\n",
    "loss_fn=nn.L1Loss()\n",
    "loss_fn(y_preds,y_test)\n",
    "\n",
    "#optimizer\n",
    "#SGD:=stochastic gradient descent\n",
    "optimizer=torch.optim.SGD(params=model_0.parameters(),lr=1E-2)\n",
    "#lr: learning rate, very imp learning hyperparameter\n",
    "#    the smaller lr, smaller the incremental change\n",
    "#    in the parameter"
   ]
  },
  {
   "cell_type": "code",
   "execution_count": 18,
   "metadata": {
    "id": "fXKrbGT8aN10"
   },
   "outputs": [],
   "source": [
    "#in  a training loop:\n",
    "#--0: Loop through the data\n",
    "#--1: Forward pass==input propagation-> data moves through forward()\n",
    "#                   functions (input->output) to make predictions on data\n",
    "#--2: Calculate loss (compare forward pass preds with ground truth labels)\n",
    "#--3: Optimizer zero grad\n",
    "#--4: Loss backward->calcs go backwards through network to calc grad of param\n",
    "#                    of the model in rel to loss. (back propagation)\n",
    "#--5: Optimizer step: use optimizer to adjust model param to improve loss.\n",
    "#                     (gradient descent)\n"
   ]
  },
  {
   "cell_type": "code",
   "execution_count": 19,
   "metadata": {
    "colab": {
     "base_uri": "https://localhost:8080/"
    },
    "id": "BHOQGB7ompOQ",
    "outputId": "53ea1fef-86c6-4555-f829-8695fc326808"
   },
   "outputs": [
    {
     "name": "stdout",
     "output_type": "stream",
     "text": [
      "Epoch: 0|Loss: 0.31288138031959534| Test loss: 0.48106518387794495|\n",
      "Epoch: 10|Loss: 0.1976713240146637| Test loss: 0.3463551998138428|\n",
      "Epoch: 20|Loss: 0.08908725529909134| Test loss: 0.21729660034179688|\n",
      "Epoch: 30|Loss: 0.053148526698350906| Test loss: 0.14464017748832703|\n",
      "Epoch: 40|Loss: 0.04543796554207802| Test loss: 0.11360953003168106|\n",
      "Epoch: 50|Loss: 0.04167863354086876| Test loss: 0.09919948130846024|\n",
      "Epoch: 60|Loss: 0.03818932920694351| Test loss: 0.08886633068323135|\n",
      "Epoch: 70|Loss: 0.03476089984178543| Test loss: 0.0805937647819519|\n",
      "Epoch: 80|Loss: 0.03132382780313492| Test loss: 0.07232122868299484|\n",
      "Epoch: 90|Loss: 0.02788739837706089| Test loss: 0.06473556160926819|\n"
     ]
    }
   ],
   "source": [
    "torch.manual_seed(42)\n",
    "epochs=int(1E2)\n",
    "t_loss=torch.zeros(epochs)\n",
    "t_test_loss=torch.zeros(epochs)\n",
    "\n",
    "for epoch in range(epochs):\n",
    "  model_0.train() #sets models that req grad to TRUE\n",
    "\n",
    "  y_pred_new=model_0(X_train)  #forward pass\n",
    "  loss=loss_fn(y_pred_new,y_train) #calculate loss\n",
    "\n",
    "  optimizer.zero_grad() #optimize, optimize, optimize!!\n",
    "  loss.backward() #backpropagate that loss!!\n",
    "  optimizer.step() #gradient that descent :)\n",
    "\n",
    "\n",
    "  t_loss[epoch]=loss\n",
    "  model_0.eval() #test!!\n",
    "  with torch.inference_mode():\n",
    "    test_pred=model_0(X_test)\n",
    "    test_loss=loss_fn(test_pred,y_test)\n",
    "    t_test_loss[epoch]=test_loss\n",
    "  if epoch%int(float(epochs)/10)==0:  #every 10 instances\n",
    "    print(f\"Epoch: {epoch}|Loss: {loss}| Test loss: {test_loss}|\")\n",
    "#print(f\"{loss}\\n\")\n",
    "#print(model_0.state_dict())"
   ]
  },
  {
   "cell_type": "code",
   "execution_count": 20,
   "metadata": {
    "colab": {
     "base_uri": "https://localhost:8080/",
     "height": 843
    },
    "id": "HpYiCnACOxsH",
    "outputId": "febe1ca6-e23b-48d8-b238-5d4c59dcf542"
   },
   "outputs": [
    {
     "data": {
      "image/png": "[encoded data removed]",
      "text/plain": [
       "<Figure size 640x480 with 1 Axes>"
      ]
     },
     "metadata": {},
     "output_type": "display_data"
    },
    {
     "data": {
      "image/png": "[encoded data removed]",
      "text/plain": [
       "<Figure size 640x480 with 1 Axes>"
      ]
     },
     "metadata": {},
     "output_type": "display_data"
    }
   ],
   "source": [
    "plot_predictions(predictions=y_preds.cpu())\n",
    "\n",
    "with torch.inference_mode():\n",
    "  y_pred_new=model_0(X_test)\n",
    "  plot_predictions(predictions=y_pred_new.cpu())"
   ]
  },
  {
   "cell_type": "code",
   "execution_count": 21,
   "metadata": {
    "colab": {
     "base_uri": "https://localhost:8080/",
     "height": 450
    },
    "id": "kkqnWYjyQT29",
    "outputId": "9edda430-5b66-4cb3-eb82-e9bd69d75081"
   },
   "outputs": [
    {
     "data": {
      "text/plain": [
       "<matplotlib.collections.PathCollection at 0x7fd59ee3ecd0>"
      ]
     },
     "execution_count": 21,
     "metadata": {},
     "output_type": "execute_result"
    },
    {
     "data": {
      "image/png": "[encoded data removed]",
      "text/plain": [
       "<Figure size 640x480 with 1 Axes>"
      ]
     },
     "metadata": {},
     "output_type": "display_data"
    }
   ],
   "source": [
    "eps=torch.arange(1,epochs+1)\n",
    "#plt.yscale('log')\n",
    "plt.scatter(eps,t_loss.detach().numpy(),s=1)\n",
    "plt.scatter(eps,t_test_loss.detach().numpy(),s=1)"
   ]
  },
  {
   "cell_type": "code",
   "execution_count": 22,
   "metadata": {
    "id": "YuBTtrz6ew6y"
   },
   "outputs": [],
   "source": [
    "#Saving a model in Pytorch\n",
    "\n",
    "#Three main methods:\n",
    "\n",
    "#--1: torch.save()->saving a PyTorch object in pickle format\n",
    "\n",
    "#--2: torch.load()->loads a saved PyTorch object\n",
    "\n",
    "#--3: torch.nn.Module.load_state_dict()->allows loading a model's saved state dictionary\n",
    "\n"
   ]
  },
  {
   "cell_type": "code",
   "execution_count": 23,
   "metadata": {
    "colab": {
     "base_uri": "https://localhost:8080/"
    },
    "id": "BvI9r-fofmG0",
    "outputId": "78531119-2a77-4d30-e6c7-22bae3b9dfc1"
   },
   "outputs": [
    {
     "data": {
      "text/plain": [
       "OrderedDict([('weights', tensor([0.5784])), ('bias', tensor([0.3513]))])"
      ]
     },
     "execution_count": 23,
     "metadata": {},
     "output_type": "execute_result"
    }
   ],
   "source": [
    "model_0.state_dict()"
   ]
  },
  {
   "cell_type": "code",
   "execution_count": 24,
   "metadata": {
    "colab": {
     "base_uri": "https://localhost:8080/"
    },
    "id": "LSfJkSuXfoNz",
    "outputId": "e9d91c23-4477-43c2-b02d-2829009bac1b"
   },
   "outputs": [
    {
     "name": "stdout",
     "output_type": "stream",
     "text": [
      "Saving model to models/1_PyTorch_Workflow_model_0.pth\n"
     ]
    }
   ],
   "source": [
    "#save PyTorch model\n",
    "from pathlib import Path\n",
    "\n",
    "#create models directory\n",
    "MODEL_PATH=Path(\"models\")\n",
    "MODEL_PATH.mkdir(parents=True,exist_ok=True) #make directory\n",
    "#                             exist_ok=True if already exists, doesn't error\n",
    "\n",
    "#creates model save patch:\n",
    "MODEL_NAME='1_PyTorch_Workflow_model_0.pth' #.pth extension or .pt\n",
    "MODEL_SAVE_PATH=MODEL_PATH/MODEL_NAME\n",
    "\n",
    "#MODEL_SAVE_PATH\n",
    "\n",
    "#save model state dict\n",
    "torch.save(obj=model_0.state_dict(),f=MODEL_SAVE_PATH)\n",
    "print(f'Saving model to {MODEL_SAVE_PATH}')"
   ]
  },
  {
   "cell_type": "code",
   "execution_count": 25,
   "metadata": {
    "colab": {
     "base_uri": "https://localhost:8080/"
    },
    "id": "z462PCJn-qUg",
    "outputId": "620bdbf2-a0ad-48b9-8d99-f57568932f85"
   },
   "outputs": [
    {
     "name": "stdout",
     "output_type": "stream",
     "text": [
      "total 24\n",
      "-rw-r--r--  1 mcytron  staff  1674 Feb  3 18:45 1_PyTorch_Workflow_model_0.pth\n",
      "-rw-r--r--  1 mcytron  staff  1738 Feb  3 18:41 1_PyTorch_Workflow_model_1.pth\n",
      "-rw-r--r--  1 mcytron  staff  1716 Feb  3 17:52 1_PyTorch_Workflow_model_exercise.pth\n"
     ]
    }
   ],
   "source": [
    "ls -l models"
   ]
  },
  {
   "cell_type": "code",
   "execution_count": 26,
   "metadata": {
    "colab": {
     "base_uri": "https://localhost:8080/"
    },
    "id": "5xQmNSiM_Wzq",
    "outputId": "fff0078a-5a7f-43b8-d21a-327c295e9a38"
   },
   "outputs": [
    {
     "data": {
      "text/plain": [
       "<All keys matched successfully>"
      ]
     },
     "execution_count": 26,
     "metadata": {},
     "output_type": "execute_result"
    }
   ],
   "source": [
    " #new instance of model from state_dict\n",
    " loaded_model_0=LinearRegressionModelV1()\n",
    " loaded_model_0.to(device)\n",
    "\n",
    " loaded_model_0.load_state_dict(torch.load(f=MODEL_SAVE_PATH,weights_only=False))"
   ]
  },
  {
   "cell_type": "code",
   "execution_count": 27,
   "metadata": {
    "colab": {
     "base_uri": "https://localhost:8080/"
    },
    "id": "GGS128kJDF1e",
    "outputId": "3ebb7039-d654-41d8-cd20-b37396c611e2"
   },
   "outputs": [
    {
     "data": {
      "text/plain": [
       "tensor([[True],\n",
       "        [True],\n",
       "        [True],\n",
       "        [True],\n",
       "        [True],\n",
       "        [True],\n",
       "        [True],\n",
       "        [True],\n",
       "        [True],\n",
       "        [True]])"
      ]
     },
     "execution_count": 27,
     "metadata": {},
     "output_type": "execute_result"
    }
   ],
   "source": [
    "loaded_model_0.eval()\n",
    "with torch.inference_mode():\n",
    "  loaded_model_preds=loaded_model_0(X_test)\n",
    "\n",
    "loaded_model_preds==y_pred_new"
   ]
  },
  {
   "cell_type": "code",
   "execution_count": 28,
   "metadata": {
    "id": "hfa9IgdWDn-S"
   },
   "outputs": [],
   "source": [
    "class LinearRegressionModelV2(nn.Module):\n",
    "  def __init__(self):\n",
    "    super().__init__()\n",
    "    #use nn.Linear() to create model param\n",
    "    self.linear_layer=nn.Linear(in_features=1,out_features=1)#one val x->one val y\n",
    "\n",
    "  def forward(self,x:torch.Tensor)->torch.Tensor:\n",
    "    return self.linear_layer(x)"
   ]
  },
  {
   "cell_type": "code",
   "execution_count": 29,
   "metadata": {
    "colab": {
     "base_uri": "https://localhost:8080/"
    },
    "id": "HITh_fBJWURe",
    "outputId": "05a39264-ad06-4311-e291-49ad5b4febd2"
   },
   "outputs": [
    {
     "data": {
      "text/plain": [
       "OrderedDict([('linear_layer.weight', tensor([[0.7645]])),\n",
       "             ('linear_layer.bias', tensor([0.8300]))])"
      ]
     },
     "execution_count": 29,
     "metadata": {},
     "output_type": "execute_result"
    }
   ],
   "source": [
    "torch.manual_seed(42)\n",
    "model_1=LinearRegressionModelV2()\n",
    "model_1.state_dict()"
   ]
  },
  {
   "cell_type": "code",
   "execution_count": 30,
   "metadata": {
    "colab": {
     "base_uri": "https://localhost:8080/"
    },
    "id": "UuEg1OW4EJdz",
    "outputId": "207597d2-cd43-49d2-a692-1963a55f6719"
   },
   "outputs": [
    {
     "data": {
      "text/plain": [
       "device(type='cpu')"
      ]
     },
     "execution_count": 30,
     "metadata": {},
     "output_type": "execute_result"
    }
   ],
   "source": [
    "model_1.to(device)\n",
    "next(model_1.parameters()).device"
   ]
  },
  {
   "cell_type": "code",
   "execution_count": 31,
   "metadata": {
    "colab": {
     "base_uri": "https://localhost:8080/"
    },
    "id": "TL5hXUupGUhI",
    "outputId": "f2f15718-743d-44cc-9dd8-19a08a39bd69"
   },
   "outputs": [
    {
     "data": {
      "text/plain": [
       "OrderedDict([('linear_layer.weight', tensor([[0.7645]])),\n",
       "             ('linear_layer.bias', tensor([0.8300]))])"
      ]
     },
     "execution_count": 31,
     "metadata": {},
     "output_type": "execute_result"
    }
   ],
   "source": [
    "model_1.state_dict()"
   ]
  },
  {
   "cell_type": "code",
   "execution_count": 32,
   "metadata": {
    "id": "iM_utjDIGX_g"
   },
   "outputs": [],
   "source": [
    "#we train!\n",
    "loss_fn=nn.L1Loss()\n",
    "\n",
    "optimizer=torch.optim.SGD(params=model_1.parameters(),lr=1E-2)"
   ]
  },
  {
   "cell_type": "code",
   "execution_count": 33,
   "metadata": {
    "colab": {
     "base_uri": "https://localhost:8080/"
    },
    "id": "qud9SULnHFGe",
    "outputId": "69d0dbc3-f61a-4c63-de09-a0f79893198b"
   },
   "outputs": [
    {
     "name": "stdout",
     "output_type": "stream",
     "text": [
      "Epoch: 0|Loss: 0.5551779866218567| Test loss: 0.5739762187004089|\n",
      "Epoch: 100|Loss: 0.006215679459273815| Test loss: 0.014086711220443249|\n",
      "Epoch: 200|Loss: 0.0012645035749301314| Test loss: 0.013801807537674904|\n",
      "Epoch: 300|Loss: 0.0012645035749301314| Test loss: 0.013801807537674904|\n",
      "Epoch: 400|Loss: 0.0012645035749301314| Test loss: 0.013801807537674904|\n",
      "Epoch: 500|Loss: 0.0012645035749301314| Test loss: 0.013801807537674904|\n",
      "Epoch: 600|Loss: 0.0012645035749301314| Test loss: 0.013801807537674904|\n",
      "Epoch: 700|Loss: 0.0012645035749301314| Test loss: 0.013801807537674904|\n",
      "Epoch: 800|Loss: 0.0012645035749301314| Test loss: 0.013801807537674904|\n",
      "Epoch: 900|Loss: 0.0012645035749301314| Test loss: 0.013801807537674904|\n"
     ]
    }
   ],
   "source": [
    "torch.manual_seed(42)\n",
    "epochs=int(1E3)\n",
    "\n",
    "#Need device agnostic code for data\n",
    "X_train=X_train.to(device)\n",
    "y_train=y_train.to(device)\n",
    "X_test=X_test.to(device)\n",
    "y_test=y_test.to(device)\n",
    "\n",
    "\n",
    "#TRAIN MODEL\n",
    "\n",
    "for epoch in range(epochs):\n",
    "  #Train!\n",
    "  model_1.train()\n",
    "  #1. do the forward pass\n",
    "  y_pred_1=model_1(X_train)\n",
    "  #2. calculate the loss\n",
    "  loss=loss_fn(y_pred_1,y_train)\n",
    "  #3. optimizer zero grad\n",
    "  optimizer.zero_grad()\n",
    "  #4. lossss backward!\n",
    "  loss.backward()\n",
    "  #5. optimizer step, step, step\n",
    "  optimizer.step()\n",
    "\n",
    "  #Test!\n",
    "  model_1.eval()\n",
    "  with torch.inference_mode():\n",
    "    test_pred=model_1(X_test)\n",
    "    test_loss=loss_fn(test_pred,y_test)\n",
    "\n",
    "  #Represent\n",
    "\n",
    "  if epoch%int(float(epochs)/10)==0:  #every 10 instances\n",
    "    print(f\"Epoch: {epoch}|Loss: {loss}| Test loss: {test_loss}|\")\n"
   ]
  },
  {
   "cell_type": "code",
   "execution_count": 34,
   "metadata": {
    "colab": {
     "base_uri": "https://localhost:8080/"
    },
    "id": "LsGQoihSIYkn",
    "outputId": "7397059d-40c8-4fcb-ae93-4e2d527c2caf"
   },
   "outputs": [
    {
     "data": {
      "text/plain": [
       "OrderedDict([('linear_layer.weight', tensor([[0.6968]])),\n",
       "             ('linear_layer.bias', tensor([0.3025]))])"
      ]
     },
     "execution_count": 34,
     "metadata": {},
     "output_type": "execute_result"
    }
   ],
   "source": [
    "model_1.state_dict()"
   ]
  },
  {
   "cell_type": "code",
   "execution_count": 35,
   "metadata": {
    "colab": {
     "base_uri": "https://localhost:8080/",
     "height": 430
    },
    "id": "mQQpEVi3JDCR",
    "outputId": "ff850052-eb56-44ce-9f54-f2c7bf991e40"
   },
   "outputs": [
    {
     "data": {
      "image/png": "[encoded data removed]",
      "text/plain": [
       "<Figure size 640x480 with 1 Axes>"
      ]
     },
     "metadata": {},
     "output_type": "display_data"
    }
   ],
   "source": [
    "model_1.eval()\n",
    "with torch.inference_mode():\n",
    "  y_pred_1=model_1(X_test)\n",
    "\n",
    "plot_predictions(predictions=y_pred_1.cpu())#put on CPU!! because numpy runs on CPU"
   ]
  },
  {
   "cell_type": "code",
   "execution_count": 36,
   "metadata": {
    "colab": {
     "base_uri": "https://localhost:8080/"
    },
    "id": "IE5sOqMMJyZo",
    "outputId": "26a6b668-3523-48a9-b449-e7ee0d016cb6"
   },
   "outputs": [
    {
     "name": "stdout",
     "output_type": "stream",
     "text": [
      "Saving model to models/1_PyTorch_Workflow_model_1.pth\n"
     ]
    }
   ],
   "source": [
    "#save PyTorch model\n",
    "from pathlib import Path\n",
    "\n",
    "#create models directory\n",
    "MODEL_PATH=Path(\"models\")\n",
    "MODEL_PATH.mkdir(parents=True,exist_ok=True) #make directory\n",
    "#                             exist_ok=True if already exists, doesn't error\n",
    "\n",
    "#creates model save patch:\n",
    "MODEL_NAME='1_PyTorch_Workflow_model_1.pth' #.pth extension or .pt\n",
    "MODEL_SAVE_PATH=MODEL_PATH/MODEL_NAME\n",
    "\n",
    "#MODEL_SAVE_PATH\n",
    "\n",
    "#save model state dict\n",
    "torch.save(obj=model_1.state_dict(),f=MODEL_SAVE_PATH)\n",
    "print(f'Saving model to {MODEL_SAVE_PATH}')"
   ]
  },
  {
   "cell_type": "code",
   "execution_count": 37,
   "metadata": {
    "colab": {
     "base_uri": "https://localhost:8080/"
    },
    "id": "VMeE0WA5Lqoi",
    "outputId": "c9203686-eb40-4018-9a2a-61008e84ecef"
   },
   "outputs": [
    {
     "data": {
      "text/plain": [
       "LinearRegressionModelV2(\n",
       "  (linear_layer): Linear(in_features=1, out_features=1, bias=True)\n",
       ")"
      ]
     },
     "execution_count": 37,
     "metadata": {},
     "output_type": "execute_result"
    }
   ],
   "source": [
    "loaded_model_1=LinearRegressionModelV2()\n",
    "\n",
    "loaded_model_1.load_state_dict(torch.load(f=MODEL_SAVE_PATH,weights_only=False))\n",
    "loaded_model_1.to(device)"
   ]
  },
  {
   "cell_type": "code",
   "execution_count": 38,
   "metadata": {
    "colab": {
     "base_uri": "https://localhost:8080/"
    },
    "id": "f4WrY7z5L9vH",
    "outputId": "2726bc80-de42-4429-de6c-09fa3285a848"
   },
   "outputs": [
    {
     "data": {
      "text/plain": [
       "OrderedDict([('linear_layer.weight', tensor([[0.6968]])),\n",
       "             ('linear_layer.bias', tensor([0.3025]))])"
      ]
     },
     "execution_count": 38,
     "metadata": {},
     "output_type": "execute_result"
    }
   ],
   "source": [
    "loaded_model_1.state_dict()"
   ]
  },
  {
   "cell_type": "code",
   "execution_count": 39,
   "metadata": {
    "colab": {
     "base_uri": "https://localhost:8080/",
     "height": 609
    },
    "id": "S6eX6JWlMAtu",
    "outputId": "5c556721-5491-47fa-c66d-6628530427e7"
   },
   "outputs": [
    {
     "data": {
      "image/png": "[encoded data removed]",
      "text/plain": [
       "<Figure size 640x480 with 1 Axes>"
      ]
     },
     "metadata": {},
     "output_type": "display_data"
    },
    {
     "data": {
      "text/plain": [
       "tensor([[True],\n",
       "        [True],\n",
       "        [True],\n",
       "        [True],\n",
       "        [True],\n",
       "        [True],\n",
       "        [True],\n",
       "        [True],\n",
       "        [True],\n",
       "        [True]])"
      ]
     },
     "execution_count": 39,
     "metadata": {},
     "output_type": "execute_result"
    }
   ],
   "source": [
    "loaded_model_1.eval()\n",
    "with torch.inference_mode():\n",
    "  y_pred_loaded_1=loaded_model_1(X_test)\n",
    "\n",
    "plot_predictions(predictions=y_pred_loaded_1.cpu())#put on CPU!! because numpy runs on CPU\n",
    "y_pred_loaded_1==y_pred_1"
   ]
  },
  {
   "cell_type": "code",
   "execution_count": 40,
   "metadata": {},
   "outputs": [],
   "source": [
    "%reset -f"
   ]
  }
 ],
 "metadata": {
  "accelerator": "GPU",
  "colab": {
   "gpuType": "T4",
   "provenance": []
  },
  "kernelspec": {
   "display_name": "base",
   "language": "python",
   "name": "python3"
  },
  "language_info": {
   "codemirror_mode": {
    "name": "ipython",
    "version": 3
   },
   "file_extension": ".py",
   "mimetype": "text/x-python",
   "name": "python",
   "nbconvert_exporter": "python",
   "pygments_lexer": "ipython3",
   "version": "3.9.13"
  }
 },
 "nbformat": 4,
 "nbformat_minor": 1
}
