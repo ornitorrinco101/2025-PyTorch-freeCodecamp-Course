{
 "cells": [
  {
   "cell_type": "code",
   "execution_count": 1,
   "id": "6f604f96",
   "metadata": {
    "id": "6f604f96",
    "outputId": "1359c90c-0f2f-4cb3-f056-89fcbd6ed7c5"
   },
   "outputs": [
    {
     "name": "stdout",
     "output_type": "stream",
     "text": [
      "tensor([[0.3045, 0.4628, 0.5721],\n",
      "        [0.7525, 0.5043, 0.3177],\n",
      "        [0.3070, 0.0652, 0.0185],\n",
      "        [0.0537, 0.7975, 0.7683],\n",
      "        [0.2390, 0.3741, 0.9744]])\n"
     ]
    }
   ],
   "source": [
    "import torch\n",
    "import numpy as np\n",
    "x = torch.rand(5, 3)\n",
    "print(x)"
   ]
  },
  {
   "cell_type": "code",
   "execution_count": 2,
   "id": "fd100770",
   "metadata": {
    "id": "fd100770",
    "outputId": "9a7e54ee-b57d-4ec4-cbbd-72606b66584b"
   },
   "outputs": [
    {
     "data": {
      "text/plain": [
       "tensor(8)"
      ]
     },
     "execution_count": 2,
     "metadata": {},
     "output_type": "execute_result"
    }
   ],
   "source": [
    "a=torch.tensor(8)\n",
    "a"
   ]
  },
  {
   "cell_type": "code",
   "execution_count": 3,
   "id": "32b4d82f",
   "metadata": {
    "id": "32b4d82f",
    "outputId": "f04b4aed-da6d-4159-dfc5-597d9e761e59"
   },
   "outputs": [
    {
     "data": {
      "text/plain": [
       "torch.Size([5, 3])"
      ]
     },
     "execution_count": 3,
     "metadata": {},
     "output_type": "execute_result"
    }
   ],
   "source": [
    "x.shape"
   ]
  },
  {
   "cell_type": "code",
   "execution_count": 4,
   "id": "32c03be0",
   "metadata": {
    "id": "32c03be0",
    "outputId": "42e5d975-bcc0-4e0f-c374-31bd338792b2"
   },
   "outputs": [
    {
     "data": {
      "text/plain": [
       "2"
      ]
     },
     "execution_count": 4,
     "metadata": {},
     "output_type": "execute_result"
    }
   ],
   "source": [
    "x.ndim"
   ]
  },
  {
   "cell_type": "code",
   "execution_count": 5,
   "id": "a029ea3a",
   "metadata": {
    "id": "a029ea3a",
    "outputId": "0dfd964b-c2eb-4774-9624-83d11b05177c"
   },
   "outputs": [
    {
     "data": {
      "text/plain": [
       "tensor([0.3045, 0.7525, 0.3070, 0.0537, 0.2390])"
      ]
     },
     "execution_count": 5,
     "metadata": {},
     "output_type": "execute_result"
    }
   ],
   "source": [
    "x[:,0]"
   ]
  },
  {
   "cell_type": "code",
   "execution_count": 6,
   "id": "a7c0a396",
   "metadata": {
    "id": "a7c0a396",
    "outputId": "47f90d16-cba6-4755-d2f7-f154b562b850"
   },
   "outputs": [
    {
     "data": {
      "text/plain": [
       "tensor([0.3045, 0.4628, 0.5721])"
      ]
     },
     "execution_count": 6,
     "metadata": {},
     "output_type": "execute_result"
    }
   ],
   "source": [
    "x[0]"
   ]
  },
  {
   "cell_type": "code",
   "execution_count": 7,
   "id": "abb4f2e5",
   "metadata": {
    "id": "abb4f2e5"
   },
   "outputs": [],
   "source": [
    "color_img=torch.rand(3,224,224)"
   ]
  },
  {
   "cell_type": "code",
   "execution_count": 8,
   "id": "95b65565",
   "metadata": {
    "id": "95b65565",
    "outputId": "da519a51-8ca0-4ca6-b159-0d675dc71268"
   },
   "outputs": [
    {
     "data": {
      "text/plain": [
       "tensor([[0., 0., 0.],\n",
       "        [0., 0., 0.],\n",
       "        [0., 0., 0.]])"
      ]
     },
     "execution_count": 8,
     "metadata": {},
     "output_type": "execute_result"
    }
   ],
   "source": [
    "zeroes=torch.zeros(3,3)\n",
    "zeroes"
   ]
  },
  {
   "cell_type": "code",
   "execution_count": 9,
   "id": "06787c6d",
   "metadata": {
    "id": "06787c6d",
    "outputId": "aea512a8-1deb-41b3-ec6e-24356cae2b42"
   },
   "outputs": [
    {
     "data": {
      "text/plain": [
       "tensor([[1., 1., 1.],\n",
       "        [1., 1., 1.],\n",
       "        [1., 1., 1.]])"
      ]
     },
     "execution_count": 9,
     "metadata": {},
     "output_type": "execute_result"
    }
   ],
   "source": [
    "ones=torch.ones(3,3)\n",
    "ones"
   ]
  },
  {
   "cell_type": "code",
   "execution_count": 10,
   "id": "d009af60",
   "metadata": {
    "id": "d009af60",
    "outputId": "a9329e70-b04f-49cb-d475-1d6d0d779d9c"
   },
   "outputs": [
    {
     "data": {
      "text/plain": [
       "tensor([ 1,  2,  3,  4,  5,  6,  7,  8,  9, 10])"
      ]
     },
     "execution_count": 10,
     "metadata": {},
     "output_type": "execute_result"
    }
   ],
   "source": [
    "torch.arange(1,11)"
   ]
  },
  {
   "cell_type": "code",
   "execution_count": 11,
   "id": "0b634511",
   "metadata": {
    "id": "0b634511"
   },
   "outputs": [],
   "source": [
    "? torch.arange"
   ]
  },
  {
   "cell_type": "code",
   "execution_count": 12,
   "id": "0c915bd3",
   "metadata": {
    "id": "0c915bd3"
   },
   "outputs": [],
   "source": [
    "evens=torch.arange(0,11,2)"
   ]
  },
  {
   "cell_type": "code",
   "execution_count": 13,
   "id": "520e7dca",
   "metadata": {
    "id": "520e7dca",
    "outputId": "6336b2e3-aa4c-4dc1-893d-948277e89452"
   },
   "outputs": [
    {
     "data": {
      "text/plain": [
       "tensor([0, 0, 0, 0, 0, 0])"
      ]
     },
     "execution_count": 13,
     "metadata": {},
     "output_type": "execute_result"
    }
   ],
   "source": [
    "torch.zeros_like(evens)"
   ]
  },
  {
   "cell_type": "code",
   "execution_count": 14,
   "id": "60c59923",
   "metadata": {
    "id": "60c59923",
    "outputId": "6a35912f-dd0d-431f-ab20-077cc099f038"
   },
   "outputs": [
    {
     "data": {
      "text/plain": [
       "tensor([2., 4., 6.], dtype=torch.float16)"
      ]
     },
     "execution_count": 14,
     "metadata": {},
     "output_type": "execute_result"
    }
   ],
   "source": [
    "tensor_type=torch.tensor([2,4,6],dtype=torch.float16,device=None,requires_grad=False)\n",
    "tensor_type\n",
    "#device is for google colab realy i think\n",
    "#gradients? idk what that is yet\n",
    "#torch.float16==torch.half"
   ]
  },
  {
   "cell_type": "code",
   "execution_count": 15,
   "id": "adb80598",
   "metadata": {
    "id": "adb80598",
    "outputId": "3011c7cd-8cca-4623-8dab-4a1901861faa"
   },
   "outputs": [
    {
     "data": {
      "text/plain": [
       "torch.float16"
      ]
     },
     "execution_count": 15,
     "metadata": {},
     "output_type": "execute_result"
    }
   ],
   "source": [
    "tensor_type.dtype"
   ]
  },
  {
   "cell_type": "code",
   "execution_count": 16,
   "id": "467fa6f2",
   "metadata": {
    "id": "467fa6f2",
    "outputId": "88693f80-4e10-4ef2-abe8-12ba864cb401"
   },
   "outputs": [
    {
     "name": "stdout",
     "output_type": "stream",
     "text": [
      "Object ` requires_grad` not found.\n"
     ]
    }
   ],
   "source": [
    "? requires_grad"
   ]
  },
  {
   "cell_type": "code",
   "execution_count": 17,
   "id": "aae9baf9",
   "metadata": {
    "id": "aae9baf9",
    "outputId": "3db75831-187f-4212-b36d-bb6f70927ac7"
   },
   "outputs": [
    {
     "data": {
      "text/plain": [
       "tensor([11, 12, 13])"
      ]
     },
     "execution_count": 17,
     "metadata": {},
     "output_type": "execute_result"
    }
   ],
   "source": [
    "tensor=torch.tensor([1,2,3])\n",
    "tensor+10"
   ]
  },
  {
   "cell_type": "code",
   "execution_count": 18,
   "id": "6570e0f9",
   "metadata": {
    "id": "6570e0f9",
    "outputId": "798d1466-5de1-4b47-9fb5-05cc42e5964c"
   },
   "outputs": [
    {
     "data": {
      "text/plain": [
       "tensor([10, 20, 30])"
      ]
     },
     "execution_count": 18,
     "metadata": {},
     "output_type": "execute_result"
    }
   ],
   "source": [
    "tensor*10"
   ]
  },
  {
   "cell_type": "code",
   "execution_count": 19,
   "id": "aa6ac7e5",
   "metadata": {
    "id": "aa6ac7e5",
    "outputId": "60bcf882-ee1b-4096-922a-54a4532f000c"
   },
   "outputs": [
    {
     "data": {
      "text/plain": [
       "tensor([1, 4, 9])"
      ]
     },
     "execution_count": 19,
     "metadata": {},
     "output_type": "execute_result"
    }
   ],
   "source": [
    "tensor*tensor"
   ]
  },
  {
   "cell_type": "code",
   "execution_count": 20,
   "id": "53f618a4",
   "metadata": {
    "id": "53f618a4",
    "outputId": "f2d35eed-d2bd-49bf-94cc-9f5e0313f64f"
   },
   "outputs": [
    {
     "data": {
      "text/plain": [
       "tensor(14)"
      ]
     },
     "execution_count": 20,
     "metadata": {},
     "output_type": "execute_result"
    }
   ],
   "source": [
    "torch.matmul(tensor,tensor)"
   ]
  },
  {
   "cell_type": "code",
   "execution_count": 21,
   "id": "846d1b19",
   "metadata": {
    "id": "846d1b19",
    "outputId": "61757a77-48ec-4e7e-f4bc-7ddf9f933df8"
   },
   "outputs": [
    {
     "data": {
      "text/plain": [
       "tensor([[1, 2, 3],\n",
       "        [1, 2, 3]])"
      ]
     },
     "execution_count": 21,
     "metadata": {},
     "output_type": "execute_result"
    }
   ],
   "source": [
    "A=torch.stack([tensor,tensor],dim=0)\n",
    "A"
   ]
  },
  {
   "cell_type": "code",
   "execution_count": 22,
   "id": "f8103546",
   "metadata": {
    "id": "f8103546",
    "outputId": "ab8e7ad1-f31f-4030-af79-ea8569b0f2d2"
   },
   "outputs": [
    {
     "data": {
      "text/plain": [
       "tensor([[1, 1],\n",
       "        [2, 2],\n",
       "        [3, 3]])"
      ]
     },
     "execution_count": 22,
     "metadata": {},
     "output_type": "execute_result"
    }
   ],
   "source": [
    "B=torch.stack([tensor,tensor],dim=1)\n",
    "B"
   ]
  },
  {
   "cell_type": "code",
   "execution_count": 23,
   "id": "2470ea4d",
   "metadata": {
    "id": "2470ea4d",
    "outputId": "6c370fa2-4048-4e8f-a86a-65cc5be6e560"
   },
   "outputs": [
    {
     "data": {
      "text/plain": [
       "tensor([1, 2, 3, 1, 2, 3])"
      ]
     },
     "execution_count": 23,
     "metadata": {},
     "output_type": "execute_result"
    }
   ],
   "source": [
    "torch.cat([tensor,tensor])"
   ]
  },
  {
   "cell_type": "code",
   "execution_count": 24,
   "id": "83834bee",
   "metadata": {
    "id": "83834bee",
    "outputId": "45b8e79c-9308-42e7-ad27-5630c26e8dd8"
   },
   "outputs": [
    {
     "name": "stdout",
     "output_type": "stream",
     "text": [
      "tensor([[14, 14],\n",
      "        [14, 14]]) \n",
      "\n",
      "torch.Size([2, 2])\n"
     ]
    }
   ],
   "source": [
    "A@B#(2,3) (3,2)=(2,2)\n",
    "print(A@B,f\"\\n\\n{(A@B).shape}\")"
   ]
  },
  {
   "cell_type": "code",
   "execution_count": 25,
   "id": "ab7e48a8",
   "metadata": {
    "id": "ab7e48a8",
    "outputId": "643efa62-c41b-45c0-974b-958f825a54f9"
   },
   "outputs": [
    {
     "name": "stdout",
     "output_type": "stream",
     "text": [
      "tensor([[ 2,  4,  6],\n",
      "        [ 4,  8, 12],\n",
      "        [ 6, 12, 18]]) \n",
      "\n",
      "torch.Size([3, 3])\n"
     ]
    }
   ],
   "source": [
    "B@A#(3,2)(2,3)=(3,3)\n",
    "print(B@A,f\"\\n\\n{(B@A).shape}\")"
   ]
  },
  {
   "cell_type": "code",
   "execution_count": 26,
   "id": "d23da3a7",
   "metadata": {
    "id": "d23da3a7",
    "outputId": "41e81a02-8c34-474a-b2a3-e0c9108cd348"
   },
   "outputs": [
    {
     "data": {
      "text/plain": [
       "tensor(18)"
      ]
     },
     "execution_count": 26,
     "metadata": {},
     "output_type": "execute_result"
    }
   ],
   "source": [
    "torch.max(B@A)"
   ]
  },
  {
   "cell_type": "code",
   "execution_count": 27,
   "id": "e54130d6",
   "metadata": {
    "id": "e54130d6",
    "outputId": "2ecb349b-8c67-4701-86cb-dc5a9bc14c4a"
   },
   "outputs": [
    {
     "ename": "RuntimeError",
     "evalue": "mean(): could not infer output dtype. Input dtype must be either a floating point or complex dtype. Got: Long",
     "output_type": "error",
     "traceback": [
      "\u001b[0;31m---------------------------------------------------------------------------\u001b[0m",
      "\u001b[0;31mRuntimeError\u001b[0m                              Traceback (most recent call last)",
      "\u001b[0;32m/var/folders/gm/gq3b9pjn2dsg33qz_63h_8wm0000gp/T/ipykernel_94308/725853963.py\u001b[0m in \u001b[0;36m<module>\u001b[0;34m\u001b[0m\n\u001b[0;32m----> 1\u001b[0;31m \u001b[0mtorch\u001b[0m\u001b[0;34m.\u001b[0m\u001b[0mmean\u001b[0m\u001b[0;34m(\u001b[0m\u001b[0mB\u001b[0m\u001b[0;34m@\u001b[0m\u001b[0mA\u001b[0m\u001b[0;34m)\u001b[0m\u001b[0;34m\u001b[0m\u001b[0;34m\u001b[0m\u001b[0m\n\u001b[0m",
      "\u001b[0;31mRuntimeError\u001b[0m: mean(): could not infer output dtype. Input dtype must be either a floating point or complex dtype. Got: Long"
     ]
    }
   ],
   "source": [
    "torch.mean(B@A)"
   ]
  },
  {
   "cell_type": "code",
   "execution_count": 28,
   "id": "c302acf9",
   "metadata": {
    "id": "c302acf9",
    "outputId": "c7b901f9-bd31-47fe-9a3b-bbb878feba59"
   },
   "outputs": [
    {
     "data": {
      "text/plain": [
       "(tensor(8.), tensor(8.))"
      ]
     },
     "execution_count": 28,
     "metadata": {},
     "output_type": "execute_result"
    }
   ],
   "source": [
    "torch.mean((B@A).type(torch.float32)),(B@A).type(torch.float32).mean() #NOTE: torch.mean requires float 32!!"
   ]
  },
  {
   "cell_type": "code",
   "execution_count": 29,
   "id": "49b163b1",
   "metadata": {
    "id": "49b163b1",
    "outputId": "91c261f2-74e3-4a56-c3eb-c61220119bbe"
   },
   "outputs": [
    {
     "data": {
      "text/plain": [
       "(tensor(72), tensor(72.))"
      ]
     },
     "execution_count": 29,
     "metadata": {},
     "output_type": "execute_result"
    }
   ],
   "source": [
    "(B@A).sum(),(B@A).type(torch.float32).sum()"
   ]
  },
  {
   "cell_type": "code",
   "execution_count": 30,
   "id": "dfbca972",
   "metadata": {
    "id": "dfbca972",
    "outputId": "02937a65-1ad5-4821-d365-fb20870858e9"
   },
   "outputs": [
    {
     "data": {
      "text/plain": [
       "(tensor(0), tensor(8))"
      ]
     },
     "execution_count": 30,
     "metadata": {},
     "output_type": "execute_result"
    }
   ],
   "source": [
    "(B@A).argmin(),(B@A).argmax()"
   ]
  },
  {
   "cell_type": "code",
   "execution_count": 31,
   "id": "e76c44d0",
   "metadata": {
    "id": "e76c44d0",
    "outputId": "957e2a4c-45df-4d5b-cee2-b6225543fab0"
   },
   "outputs": [
    {
     "data": {
      "text/plain": [
       "(tensor(0), tensor(0))"
      ]
     },
     "execution_count": 31,
     "metadata": {},
     "output_type": "execute_result"
    }
   ],
   "source": [
    "(A@B).argmin(),(A@B).argmax()"
   ]
  },
  {
   "cell_type": "markdown",
   "id": "f00a2d98",
   "metadata": {
    "id": "f00a2d98"
   },
   "source": [
    "<font size=\"3\">\n",
    "\n",
    "* Reshaping: Reshapes an input tensor into a defined shape\n",
    "\n",
    "* View:      Returns a view of an input tensor of a certain shape (keeping OG memory)\n",
    "\n",
    "* Stacking:  Combines (concatenates) tensors on top (vstack) or side by side (hstack)\n",
    "\n",
    "* Squeeze: Removes all `1` dimensions from tensor\n",
    "    \n",
    "* Squeeze: Add `1` dimension to tensor\n",
    "    \n",
    "* Permute: Return a view of tensor with dimensions permuted (swapped) in some way"
   ]
  },
  {
   "cell_type": "code",
   "execution_count": 32,
   "id": "1742bf93",
   "metadata": {
    "id": "1742bf93",
    "outputId": "35862484-9f60-4670-a188-2c0cb36bbbb0"
   },
   "outputs": [
    {
     "data": {
      "text/plain": [
       "tensor([ 1,  2,  3,  4,  5,  6,  7,  8,  9, 10])"
      ]
     },
     "execution_count": 32,
     "metadata": {},
     "output_type": "execute_result"
    }
   ],
   "source": [
    "x=torch.arange(1,11)\n",
    "x"
   ]
  },
  {
   "cell_type": "code",
   "execution_count": 33,
   "id": "6cca5db4",
   "metadata": {
    "id": "6cca5db4",
    "outputId": "45e9fb9a-fd02-42b0-efde-96f78d9d595d"
   },
   "outputs": [
    {
     "name": "stdout",
     "output_type": "stream",
     "text": [
      "tensor([[ 1,  2,  3,  4,  5,  6,  7,  8,  9, 10]])\n",
      "\n",
      "tensor([[ 1],\n",
      "        [ 2],\n",
      "        [ 3],\n",
      "        [ 4],\n",
      "        [ 5],\n",
      "        [ 6],\n",
      "        [ 7],\n",
      "        [ 8],\n",
      "        [ 9],\n",
      "        [10]])\n",
      "\n",
      "\n",
      "tensor([[ 1,  2,  3,  4,  5],\n",
      "        [ 6,  7,  8,  9, 10]])\n",
      "\n",
      "tensor([[ 1,  2],\n",
      "        [ 3,  4],\n",
      "        [ 5,  6],\n",
      "        [ 7,  8],\n",
      "        [ 9, 10]])\n",
      "\n",
      "tensor([[[ 1],\n",
      "         [ 2]],\n",
      "\n",
      "        [[ 3],\n",
      "         [ 4]],\n",
      "\n",
      "        [[ 5],\n",
      "         [ 6]],\n",
      "\n",
      "        [[ 7],\n",
      "         [ 8]],\n",
      "\n",
      "        [[ 9],\n",
      "         [10]]])\n",
      "\n",
      "tensor([[[ 1,  2]],\n",
      "\n",
      "        [[ 3,  4]],\n",
      "\n",
      "        [[ 5,  6]],\n",
      "\n",
      "        [[ 7,  8]],\n",
      "\n",
      "        [[ 9, 10]]])\n"
     ]
    }
   ],
   "source": [
    "print(f\"{x.reshape(1,10)}\\n\\n{x.reshape(10,1)}\\n\\n\")\n",
    "\n",
    "print(f\"{x.reshape(2,5)}\\n\\n{x.reshape(5,2)}\\n\\n{x.reshape(5,2,1)}\\n\\n{x.reshape(5,1,2)}\")"
   ]
  },
  {
   "cell_type": "code",
   "execution_count": 34,
   "id": "3277a0f8",
   "metadata": {
    "id": "3277a0f8",
    "outputId": "21986999-ed8a-4847-cf21-f1539ca8821f"
   },
   "outputs": [
    {
     "name": "stdout",
     "output_type": "stream",
     "text": [
      "tensor([[ 1,  2,  3,  4,  5,  6,  7,  8,  9, 10]])\n",
      "\n",
      "tensor([[ 1],\n",
      "        [ 2],\n",
      "        [ 3],\n",
      "        [ 4],\n",
      "        [ 5],\n",
      "        [ 6],\n",
      "        [ 7],\n",
      "        [ 8],\n",
      "        [ 9],\n",
      "        [10]])\n",
      "\n",
      "\n",
      "tensor([[ 1,  2,  3,  4,  5],\n",
      "        [ 6,  7,  8,  9, 10]])\n",
      "\n",
      "tensor([[ 1,  2],\n",
      "        [ 3,  4],\n",
      "        [ 5,  6],\n",
      "        [ 7,  8],\n",
      "        [ 9, 10]])\n",
      "\n",
      "tensor([[[ 1],\n",
      "         [ 2]],\n",
      "\n",
      "        [[ 3],\n",
      "         [ 4]],\n",
      "\n",
      "        [[ 5],\n",
      "         [ 6]],\n",
      "\n",
      "        [[ 7],\n",
      "         [ 8]],\n",
      "\n",
      "        [[ 9],\n",
      "         [10]]])\n",
      "\n",
      "tensor([[[ 1,  2]],\n",
      "\n",
      "        [[ 3,  4]],\n",
      "\n",
      "        [[ 5,  6]],\n",
      "\n",
      "        [[ 7,  8]],\n",
      "\n",
      "        [[ 9, 10]]])\n"
     ]
    }
   ],
   "source": [
    "print(f\"{x.view(1,10)}\\n\\n{x.view(10,1)}\\n\\n\")\n",
    "\n",
    "print(f\"{x.view(2,5)}\\n\\n{x.view(5,2)}\\n\\n{x.view(5,2,1)}\\n\\n{x.view(5,1,2)}\")"
   ]
  },
  {
   "cell_type": "code",
   "execution_count": 35,
   "id": "25c35da3",
   "metadata": {
    "id": "25c35da3",
    "outputId": "0715e225-77f7-4592-a5c7-b6130fb37805"
   },
   "outputs": [
    {
     "name": "stdout",
     "output_type": "stream",
     "text": [
      "tensor([[ 1,  2,  3,  4,  5,  6,  7,  8,  9, 10],\n",
      "        [ 2,  3,  4,  5,  6,  7,  8,  9, 10, 11],\n",
      "        [ 3,  4,  5,  6,  7,  8,  9, 10, 11, 12]])\n",
      "\n",
      "tensor([[ 1,  2,  3],\n",
      "        [ 2,  3,  4],\n",
      "        [ 3,  4,  5],\n",
      "        [ 4,  5,  6],\n",
      "        [ 5,  6,  7],\n",
      "        [ 6,  7,  8],\n",
      "        [ 7,  8,  9],\n",
      "        [ 8,  9, 10],\n",
      "        [ 9, 10, 11],\n",
      "        [10, 11, 12]])\n"
     ]
    }
   ],
   "source": [
    "print(f\"{torch.stack([x,x+1,x+2],dim=0)}\\n\\n{torch.stack([x,x+1,x+2],dim=1)}\")"
   ]
  },
  {
   "cell_type": "code",
   "execution_count": 36,
   "id": "a92778bf",
   "metadata": {
    "id": "a92778bf",
    "outputId": "1ab89052-6e28-450f-cd95-2f59f3a05b6d"
   },
   "outputs": [
    {
     "data": {
      "text/plain": [
       "torch.Size([10])"
      ]
     },
     "execution_count": 36,
     "metadata": {},
     "output_type": "execute_result"
    }
   ],
   "source": [
    "x.shape"
   ]
  },
  {
   "cell_type": "code",
   "execution_count": 37,
   "id": "f588cd1c",
   "metadata": {
    "id": "f588cd1c",
    "outputId": "30807a02-96bc-46aa-c21c-1dafabecf2fe"
   },
   "outputs": [
    {
     "data": {
      "text/plain": [
       "(tensor([[ 1,  2,  3,  4,  5,  6,  7,  8,  9, 10]]), torch.Size([1, 10]))"
      ]
     },
     "execution_count": 37,
     "metadata": {},
     "output_type": "execute_result"
    }
   ],
   "source": [
    "x=x.reshape(1,10)\n",
    "x,x.shape"
   ]
  },
  {
   "cell_type": "code",
   "execution_count": 38,
   "id": "d9aa66be",
   "metadata": {
    "id": "d9aa66be",
    "outputId": "f07e0259-a0d3-4a7d-fa06-c798084ff72c"
   },
   "outputs": [
    {
     "data": {
      "text/plain": [
       "(tensor([ 1,  2,  3,  4,  5,  6,  7,  8,  9, 10]), torch.Size([10]))"
      ]
     },
     "execution_count": 38,
     "metadata": {},
     "output_type": "execute_result"
    }
   ],
   "source": [
    "x=x.squeeze()\n",
    "x,x.shape"
   ]
  },
  {
   "cell_type": "code",
   "execution_count": 39,
   "id": "4c15f39c",
   "metadata": {
    "id": "4c15f39c",
    "outputId": "896836b3-769e-4bfa-8c0e-ba9f1e9e593c"
   },
   "outputs": [
    {
     "data": {
      "text/plain": [
       "(tensor([[ 1,  2,  3,  4,  5,  6,  7,  8,  9, 10]]), torch.Size([1, 10]))"
      ]
     },
     "execution_count": 39,
     "metadata": {},
     "output_type": "execute_result"
    }
   ],
   "source": [
    "x=x.squeeze()\n",
    "x=x.unsqueeze(dim=0)\n",
    "x,x.shape"
   ]
  },
  {
   "cell_type": "code",
   "execution_count": 40,
   "id": "fe6c1f6b",
   "metadata": {
    "id": "fe6c1f6b",
    "outputId": "3180be03-a3f0-401a-ed2e-75fffd5d5325"
   },
   "outputs": [
    {
     "data": {
      "text/plain": [
       "(tensor([[ 1],\n",
       "         [ 2],\n",
       "         [ 3],\n",
       "         [ 4],\n",
       "         [ 5],\n",
       "         [ 6],\n",
       "         [ 7],\n",
       "         [ 8],\n",
       "         [ 9],\n",
       "         [10]]),\n",
       " torch.Size([10, 1]))"
      ]
     },
     "execution_count": 40,
     "metadata": {},
     "output_type": "execute_result"
    }
   ],
   "source": [
    "x=x.squeeze()\n",
    "x=x.unsqueeze(dim=1)\n",
    "x,x.shape"
   ]
  },
  {
   "cell_type": "code",
   "execution_count": 41,
   "id": "5835cd7f",
   "metadata": {
    "id": "5835cd7f",
    "outputId": "1ea658fd-808a-4753-e126-b818f30c1bec"
   },
   "outputs": [
    {
     "data": {
      "text/plain": [
       "torch.Size([3, 224, 224])"
      ]
     },
     "execution_count": 41,
     "metadata": {},
     "output_type": "execute_result"
    }
   ],
   "source": [
    "x_color=torch.rand(size=(224,224,3))\n",
    "x_color_permuted=x_color.permute(2,0,1)\n",
    "x_color_permuted.shape         #Important: for changing the shape"
   ]
  },
  {
   "cell_type": "markdown",
   "id": "7679a966",
   "metadata": {
    "id": "7679a966"
   },
   "source": [
    "<font size=\"3\">\n",
    "\n",
    "\n",
    "$$\\text{PyTorch Indexing} \\simeq\\text{Numpy Indexing}$$"
   ]
  },
  {
   "cell_type": "code",
   "execution_count": 42,
   "id": "9a2b5fcc",
   "metadata": {
    "id": "9a2b5fcc",
    "outputId": "4f5940f3-f3db-4849-fc13-cc68a207e9d6"
   },
   "outputs": [
    {
     "data": {
      "text/plain": [
       "(tensor([[[1, 2, 3],\n",
       "          [4, 5, 6],\n",
       "          [7, 8, 9]]]),\n",
       " torch.Size([1, 3, 3]))"
      ]
     },
     "execution_count": 42,
     "metadata": {},
     "output_type": "execute_result"
    }
   ],
   "source": [
    "a=torch.arange(1,10).reshape(1,3,3)\n",
    "a,a.shape"
   ]
  },
  {
   "cell_type": "code",
   "execution_count": 43,
   "id": "bf227424",
   "metadata": {
    "id": "bf227424",
    "outputId": "98fde320-0c12-485f-d530-564dc414f8a1"
   },
   "outputs": [
    {
     "data": {
      "text/plain": [
       "tensor([[1, 2, 3],\n",
       "        [4, 5, 6],\n",
       "        [7, 8, 9]])"
      ]
     },
     "execution_count": 43,
     "metadata": {},
     "output_type": "execute_result"
    }
   ],
   "source": [
    "a[0]"
   ]
  },
  {
   "cell_type": "code",
   "execution_count": 44,
   "id": "498ac1d9",
   "metadata": {
    "id": "498ac1d9",
    "outputId": "36c9090f-cbfa-4b3f-c4cc-16e1f83a7905"
   },
   "outputs": [
    {
     "data": {
      "text/plain": [
       "tensor([1, 2, 3])"
      ]
     },
     "execution_count": 44,
     "metadata": {},
     "output_type": "execute_result"
    }
   ],
   "source": [
    "a[0,0]"
   ]
  },
  {
   "cell_type": "code",
   "execution_count": 45,
   "id": "58d53b6b",
   "metadata": {
    "id": "58d53b6b",
    "outputId": "a8d6dff7-0726-47e5-8b7e-b9f7ca82495b"
   },
   "outputs": [
    {
     "data": {
      "text/plain": [
       "tensor(1)"
      ]
     },
     "execution_count": 45,
     "metadata": {},
     "output_type": "execute_result"
    }
   ],
   "source": [
    "a[0,0,0]"
   ]
  },
  {
   "cell_type": "code",
   "execution_count": 46,
   "id": "96c60900",
   "metadata": {
    "id": "96c60900",
    "outputId": "ba5d24b1-5194-40e7-b7d1-d7ab1d8f561a"
   },
   "outputs": [
    {
     "data": {
      "text/plain": [
       "tensor(9)"
      ]
     },
     "execution_count": 46,
     "metadata": {},
     "output_type": "execute_result"
    }
   ],
   "source": [
    "a[0,2,2]"
   ]
  },
  {
   "cell_type": "code",
   "execution_count": 47,
   "id": "83545c06",
   "metadata": {
    "id": "83545c06",
    "outputId": "43c8bb0a-4ddd-4465-848d-a5c4cbfa2bae"
   },
   "outputs": [
    {
     "name": "stdout",
     "output_type": "stream",
     "text": [
      "tensor([[1, 4, 7]])\n",
      "tensor([[2, 5, 8]])\n",
      "tensor([[3, 6, 9]])\n"
     ]
    }
   ],
   "source": [
    "print(f\"{a[:,:,0]}\\n{a[:,:,1]}\\n{a[:,:,2]}\")"
   ]
  },
  {
   "cell_type": "code",
   "execution_count": 48,
   "id": "2f255b0e",
   "metadata": {
    "id": "2f255b0e",
    "outputId": "186f3489-f7a6-49fc-ca9d-db9ba908b786"
   },
   "outputs": [
    {
     "name": "stdout",
     "output_type": "stream",
     "text": [
      "tensor([1])\n",
      "tensor([5])\n",
      "tensor([9])\n"
     ]
    }
   ],
   "source": [
    "print(f\"{a[:,0,0]}\\n{a[:,1,1]}\\n{a[:,2,2]}\")"
   ]
  },
  {
   "cell_type": "code",
   "execution_count": 49,
   "id": "b198aa84",
   "metadata": {
    "id": "b198aa84",
    "outputId": "bcabf43a-3f8c-4eed-b45b-fdee44f35ded"
   },
   "outputs": [
    {
     "data": {
      "text/plain": [
       "tensor([1, 2, 3])"
      ]
     },
     "execution_count": 49,
     "metadata": {},
     "output_type": "execute_result"
    }
   ],
   "source": [
    "a[0,0,:]"
   ]
  },
  {
   "cell_type": "code",
   "execution_count": 50,
   "id": "8fbe586c",
   "metadata": {
    "id": "8fbe586c",
    "outputId": "9262607f-f223-4715-c4c2-1b178ccb1ad9"
   },
   "outputs": [
    {
     "data": {
      "text/plain": [
       "tensor([[3, 6, 9]])"
      ]
     },
     "execution_count": 50,
     "metadata": {},
     "output_type": "execute_result"
    }
   ],
   "source": [
    "a[:,:,2]"
   ]
  },
  {
   "cell_type": "markdown",
   "id": "f1676b9b",
   "metadata": {
    "id": "f1676b9b"
   },
   "source": [
    "<font size=\"3\">\n",
    "    \n",
    "PyTorch has NumPy functionality:\n",
    "    \n",
    "    \n",
    "* NumPy->PyTorch: `torch.from_numpy(ndarray)`\n",
    "    \n",
    "* PyTorch->NumPy: `torch.Tensor.numpy()`"
   ]
  },
  {
   "cell_type": "code",
   "execution_count": 51,
   "id": "f9c4fde2",
   "metadata": {
    "id": "f9c4fde2",
    "outputId": "23174810-5d16-448d-fecd-f26e27c73fe1"
   },
   "outputs": [
    {
     "data": {
      "text/plain": [
       "(array([1, 2, 3, 4, 5, 6, 7]), tensor([1, 2, 3, 4, 5, 6, 7]))"
      ]
     },
     "execution_count": 51,
     "metadata": {},
     "output_type": "execute_result"
    }
   ],
   "source": [
    "array=np.arange(1,8)\n",
    "array,torch.from_numpy(array)  #Note!! NumPy->PyTorch makes float64 unless .dtype specified"
   ]
  },
  {
   "cell_type": "code",
   "execution_count": 52,
   "id": "6e1ff31e",
   "metadata": {
    "id": "6e1ff31e"
   },
   "outputs": [],
   "source": [
    "tensor=torch.ones(7)"
   ]
  },
  {
   "cell_type": "code",
   "execution_count": 53,
   "id": "0849d10a",
   "metadata": {
    "id": "0849d10a",
    "outputId": "0fa527b0-674a-4b85-b0bf-af28eea83793"
   },
   "outputs": [
    {
     "data": {
      "text/plain": [
       "(tensor([1., 1., 1., 1., 1., 1., 1.]),\n",
       " array([1., 1., 1., 1., 1., 1., 1.], dtype=float32))"
      ]
     },
     "execution_count": 53,
     "metadata": {},
     "output_type": "execute_result"
    }
   ],
   "source": [
    "tensor,tensor.numpy() #Goes back to float32... Also, New Tensor does not share memory."
   ]
  },
  {
   "cell_type": "markdown",
   "id": "9ea73e9c",
   "metadata": {
    "id": "9ea73e9c"
   },
   "source": [
    "<font size='3'>\n",
    "    \n",
    "To make experiments reproducible: __Use Seeds!!__"
   ]
  },
  {
   "cell_type": "code",
   "execution_count": 54,
   "id": "023293d1",
   "metadata": {
    "id": "023293d1",
    "outputId": "83e06d60-7084-411f-8033-c666c5b493e6"
   },
   "outputs": [
    {
     "data": {
      "text/plain": [
       "(tensor([[0.0290, 0.4019, 0.2598],\n",
       "         [0.3666, 0.0583, 0.7006],\n",
       "         [0.0518, 0.4681, 0.6738]]),\n",
       " tensor([[0.0290, 0.4019, 0.2598],\n",
       "         [0.3666, 0.0583, 0.7006],\n",
       "         [0.0518, 0.4681, 0.6738]]))"
      ]
     },
     "execution_count": 54,
     "metadata": {},
     "output_type": "execute_result"
    }
   ],
   "source": [
    "seed=1234\n",
    "\n",
    "torch.manual_seed(seed)\n",
    "onerand=torch.rand(3,3)\n",
    "\n",
    "torch.manual_seed(seed)#we have to reset because... we have to\n",
    "tworand=torch.rand(3,3)\n",
    "\n",
    "onerand,tworand"
   ]
  },
  {
   "cell_type": "code",
   "execution_count": 56,
   "id": "9f84e6be",
   "metadata": {
    "id": "9f84e6be",
    "outputId": "f6432760-0b94-4219-a97a-a826edbca29a"
   },
   "outputs": [
    {
     "data": {
      "text/plain": [
       "1"
      ]
     },
     "execution_count": 56,
     "metadata": {},
     "output_type": "execute_result"
    }
   ],
   "source": [
    "x[0].item()#<- turns (scalar) tensor into ordinary Python variable"
   ]
  },
  {
   "cell_type": "code",
   "execution_count": 59,
   "id": "70f9fc91",
   "metadata": {},
   "outputs": [],
   "source": [
    "%reset -f"
   ]
  }
 ],
 "metadata": {
  "colab": {
   "provenance": []
  },
  "kernelspec": {
   "display_name": "Python 3 (ipykernel)",
   "language": "python",
   "name": "python3"
  },
  "language_info": {
   "codemirror_mode": {
    "name": "ipython",
    "version": 3
   },
   "file_extension": ".py",
   "mimetype": "text/x-python",
   "name": "python",
   "nbconvert_exporter": "python",
   "pygments_lexer": "ipython3",
   "version": "3.9.13"
  }
 },
 "nbformat": 4,
 "nbformat_minor": 5
}
